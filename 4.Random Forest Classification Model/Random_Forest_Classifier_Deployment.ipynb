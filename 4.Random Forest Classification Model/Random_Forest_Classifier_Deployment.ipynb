{
 "cells": [
  {
   "cell_type": "code",
   "execution_count": 1,
   "id": "544dae90-22cd-429f-b5c4-4c99125f89ee",
   "metadata": {},
   "outputs": [],
   "source": [
    "import pickle"
   ]
  },
  {
   "cell_type": "code",
   "execution_count": 2,
   "id": "967327ae-ce31-469f-94e5-5430d4c524f2",
   "metadata": {},
   "outputs": [],
   "source": [
    "load_model=pickle.load(open(\"Attrition_Yes_Prediction.sav\",'rb'))"
   ]
  },
  {
   "cell_type": "code",
   "execution_count": 3,
   "id": "4a304d6d-0fb1-4334-8bd0-a32f2ae53e5f",
   "metadata": {},
   "outputs": [
    {
     "name": "stdin",
     "output_type": "stream",
     "text": [
      "Age: 18\n",
      "DailyRate: 230\n",
      "DistanceFromHome: 3\n",
      "Education: 3\n",
      "EmployeeCount: 1\n",
      "EmployeeNumber: 405\n",
      "EnvironmentSatisfaction: 3\n",
      "HourlyRate: 54\n",
      "JobInvolvement: 3\n",
      "JobLevel: 1\n",
      "JobSatisfaction: 3\n",
      "MonthlyIncome: 1420\n",
      "MonthlyRate: 25233\n",
      "NumCompaniesWorked: 1\n",
      "PercentSalaryHike: 13\n",
      "PerformanceRating: 3\n",
      "RelationshipSatisfaction: 3\n",
      "StandardHours: 80\n",
      "StockOptionLevel: 0\n",
      "TotalWorkingYears: 0\n",
      "TrainingTimesLastYear: 2\n",
      "WorkLifeBalance: 3\n",
      "YearsAtCompany: 0\n",
      "YearsInCurrentRole: 0\n",
      "YearsSinceLastPromotion: 0\n",
      "YearsWithCurrManager: 0\n",
      "Attrition_Yes: 0\n",
      "BusinessTravel_TravelRarely: 0\n",
      "BusinessTravel_Travel_Frequently: 1\n",
      "Department_Research & Development: 1\n",
      "Department_Sales: 0\n",
      "EducationField_Life Sciences: 1\n",
      "EducationField_Marketing: 0\n",
      "EducationField_Medical: 0\n",
      "EducationField_Other: 0\n",
      "EducationField_Technical Degree: 0\n",
      "Gender_Male: 1\n",
      "JobRole_Human Resources: 0\n",
      "JobRole_Laboratory Technician: 1\n",
      "JobRole_Manager: 0\n",
      "JobRole_Manufacturing Director: 0\n",
      "JobRole_Research Director: 0\n",
      "JobRole_Research Scientist: 0\n",
      "JobRole_Sales Executive: 0\n",
      "JobRole_Sales Representative: 0\n",
      "MaritalStatus_Married: 1\n",
      "MaritalStatus_Single: 0\n",
      "OverTime_Yes: 1\n"
     ]
    }
   ],
   "source": [
    "def get_categorical_prediction(prediction):\n",
    "    return \"Yes\" if prediction == 1 else \"No\"\n",
    "Age=int(input('Age:'))\n",
    "DailyRate=int(input('DailyRate:'))\n",
    "DistanceFromHome=int(input('DistanceFromHome:'))\n",
    "Education=int(input('Education:'))\n",
    "EmployeeCount=int(input('EmployeeCount:'))\n",
    "EmployeeNumber=int(input('EmployeeNumber:'))\n",
    "EnvironmentSatisfaction=int(input('EnvironmentSatisfaction:'))\n",
    "HourlyRate=int(input('HourlyRate:'))\n",
    "JobInvolvement=int(input('JobInvolvement:'))\n",
    "JobLevel=int(input('JobLevel:'))\n",
    "JobSatisfaction=int(input('JobSatisfaction:'))\n",
    "MonthlyIncome=int(input('MonthlyIncome:'))\n",
    "MonthlyRate=int(input('MonthlyRate:'))\n",
    "NumCompaniesWorked=int(input('NumCompaniesWorked:'))\n",
    "PercentSalaryHike=int(input('PercentSalaryHike:'))\n",
    "PerformanceRating=int(input('PerformanceRating:'))\n",
    "RelationshipSatisfaction=int(input('RelationshipSatisfaction:'))\n",
    "StandardHours=int(input('StandardHours:'))\n",
    "StockOptionLevel=int(input('StockOptionLevel:'))\n",
    "TotalWorkingYears=int(input('TotalWorkingYears:'))\n",
    "TrainingTimesLastYear=int(input('TrainingTimesLastYear:'))\n",
    "WorkLifeBalance=int(input('WorkLifeBalance:'))\n",
    "YearsAtCompany=int(input('YearsAtCompany:'))\n",
    "YearsInCurrentRole=int(input('YearsInCurrentRole:'))\n",
    "YearsSinceLastPromotion=int(input('YearsSinceLastPromotion:'))\n",
    "YearsWithCurrManager=int(input('YearsWithCurrManager:'))\n",
    "Attrition_Yes=int(input('Attrition_Yes:'))\n",
    "BusinessTravel_TravelRarely=int(input('BusinessTravel_TravelRarely:'))\n",
    "BusinessTravel_Travel_Frequently=int(input('BusinessTravel_Travel_Frequently:'))\n",
    "Department_ResearchDevelopment=int(input('Department_Research & Development:'))\n",
    "Department_Sales=int(input('Department_Sales:'))\n",
    "EducationField_Life_Sciences=int(input('EducationField_Life Sciences:'))\n",
    "EducationField_Marketing=int(input('EducationField_Marketing:'))\n",
    "EducationField_Medical=int(input('EducationField_Medical:'))\n",
    "EducationField_Other=int(input('EducationField_Other:'))\n",
    "EducationField_Technical_Degree=int(input('EducationField_Technical Degree:'))\n",
    "Gender_Male=int(input('Gender_Male:'))\n",
    "JobRole_Human_Resources=int(input('JobRole_Human Resources:'))\n",
    "JobRole_Laboratory_Technician=int(input('JobRole_Laboratory Technician:'))\n",
    "JobRole_Manager=int(input('JobRole_Manager:'))\n",
    "JobRole_Manufacturing_Director=int(input('JobRole_Manufacturing Director:'))\n",
    "JobRole_Research_Director=int(input('JobRole_Research Director:'))\n",
    "JobRole_Research_Scientist=int(input('JobRole_Research Scientist:'))\n",
    "JobRole_Sales_Executive=int(input('JobRole_Sales Executive:'))\n",
    "JobRole_Sales_Representative=int(input('JobRole_Sales Representative:'))\n",
    "MaritalStatus_Married=int(input('MaritalStatus_Married:'))\n",
    "MaritalStatus_Single=int(input('MaritalStatus_Single:'))\n",
    "OverTime_Yes=int(input('OverTime_Yes:'))\n",
    "    "
   ]
  },
  {
   "cell_type": "code",
   "execution_count": 4,
   "id": "6bdcb793-474a-481c-ac28-ea029af6ae50",
   "metadata": {},
   "outputs": [],
   "source": [
    "Final_result = load_model.predict([[Age,DailyRate,DistanceFromHome,Education,EmployeeCount,\n",
    "       EmployeeNumber,EnvironmentSatisfaction,HourlyRate,\n",
    "       JobInvolvement,JobLevel,JobSatisfaction,MonthlyIncome,\n",
    "       MonthlyRate,NumCompaniesWorked,PercentSalaryHike,\n",
    "       PerformanceRating,RelationshipSatisfaction,StandardHours,\n",
    "       StockOptionLevel,TotalWorkingYears,TrainingTimesLastYear,\n",
    "       WorkLifeBalance,YearsAtCompany,YearsInCurrentRole,\n",
    "       YearsSinceLastPromotion,YearsWithCurrManager,Attrition_Yes,\n",
    "       BusinessTravel_TravelRarely,BusinessTravel_Travel_Frequently,\n",
    "       Department_Sales,EducationField_Life_Sciences,\n",
    "       EducationField_Marketing,EducationField_Medical,\n",
    "       EducationField_Other, EducationField_Technical_Degree,\n",
    "       Gender_Male,JobRole_Human_Resources,\n",
    "       JobRole_Laboratory_Technician,JobRole_Manager,\n",
    "       JobRole_Manufacturing_Director,JobRole_Research_Director,\n",
    "       JobRole_Research_Scientist,JobRole_Sales_Executive,\n",
    "       JobRole_Sales_Representative,MaritalStatus_Married,\n",
    "       MaritalStatus_Single,OverTime_Yes,Department_ResearchDevelopment]])"
   ]
  },
  {
   "cell_type": "code",
   "execution_count": 5,
   "id": "4ed43456-c6cd-4eb6-92c9-588b5c7d2a5c",
   "metadata": {},
   "outputs": [
    {
     "data": {
      "text/plain": [
       "'No'"
      ]
     },
     "execution_count": 5,
     "metadata": {},
     "output_type": "execute_result"
    }
   ],
   "source": [
    "future_prediction_categorical = get_categorical_prediction(Final_result)\n",
    "future_prediction_categorical"
   ]
  },
  {
   "cell_type": "code",
   "execution_count": 6,
   "id": "10ab3f3d-e27a-4278-b5bf-00b39c2462d7",
   "metadata": {},
   "outputs": [
    {
     "name": "stdout",
     "output_type": "stream",
     "text": [
      "This employee will Attrition or quit his job in the future : No\n"
     ]
    }
   ],
   "source": [
    "# Print the categorical prediction\n",
    "print(\"This employee will Attrition or quit his job in the future :\", future_prediction_categorical)"
   ]
  },
  {
   "cell_type": "code",
   "execution_count": null,
   "id": "db786d52-bcbc-4795-98a1-ddf1d9348ff9",
   "metadata": {},
   "outputs": [],
   "source": []
  }
 ],
 "metadata": {
  "kernelspec": {
   "display_name": "Python 3 (ipykernel)",
   "language": "python",
   "name": "python3"
  },
  "language_info": {
   "codemirror_mode": {
    "name": "ipython",
    "version": 3
   },
   "file_extension": ".py",
   "mimetype": "text/x-python",
   "name": "python",
   "nbconvert_exporter": "python",
   "pygments_lexer": "ipython3",
   "version": "3.11.8"
  }
 },
 "nbformat": 4,
 "nbformat_minor": 5
}
